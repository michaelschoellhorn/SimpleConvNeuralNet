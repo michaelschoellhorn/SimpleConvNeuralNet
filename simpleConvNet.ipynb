{
 "cells": [
  {
   "cell_type": "markdown",
   "metadata": {},
   "source": [
    "# Simple Convolutional Neural Net for Image Recognition\n",
    "## Introduction\n",
    "In this short notebook we develope a small neural network which uses fully connected and convolutional layers to classify handwritten numbers from the MNIST database.\n",
    "\n",
    "\n",
    "## Imports"
   ]
  },
  {
   "cell_type": "code",
   "execution_count": 2,
   "metadata": {},
   "outputs": [],
   "source": [
    "import numpy as np\n",
    "import matplotlib.pyplot as plt \n",
    "import torch\n",
    "from torchvision import datasets\n",
    "import torchvision.transforms as transforms\n",
    "import torch.nn as nn \n",
    "import torch.nn.functional as F "
   ]
  },
  {
   "cell_type": "markdown",
   "metadata": {},
   "source": [
    "First we want to download the dataset we train and later test on. This is done via the DataLoader function from torch. We load the data in individual batches that we will then use for the different training epochs."
   ]
  },
  {
   "cell_type": "code",
   "execution_count": 3,
   "metadata": {},
   "outputs": [
    {
     "name": "stdout",
     "output_type": "stream",
     "text": [
      "Downloading http://yann.lecun.com/exdb/mnist/train-images-idx3-ubyte.gz\n"
     ]
    },
    {
     "name": "stderr",
     "output_type": "stream",
     "text": [
      "7.9%"
     ]
    },
    {
     "name": "stdout",
     "output_type": "stream",
     "text": [
      "Downloading http://yann.lecun.com/exdb/mnist/train-images-idx3-ubyte.gz to data\\MNIST\\raw\\train-images-idx3-ubyte.gz\n"
     ]
    },
    {
     "name": "stderr",
     "output_type": "stream",
     "text": [
      "100.0%\n"
     ]
    },
    {
     "name": "stdout",
     "output_type": "stream",
     "text": [
      "Extracting data\\MNIST\\raw\\train-images-idx3-ubyte.gz to data\\MNIST\\raw\n"
     ]
    },
    {
     "name": "stderr",
     "output_type": "stream",
     "text": [
      "100.0%"
     ]
    },
    {
     "name": "stdout",
     "output_type": "stream",
     "text": [
      "\n",
      "Downloading http://yann.lecun.com/exdb/mnist/train-labels-idx1-ubyte.gz\n",
      "Downloading http://yann.lecun.com/exdb/mnist/train-labels-idx1-ubyte.gz to data\\MNIST\\raw\\train-labels-idx1-ubyte.gz\n",
      "Extracting data\\MNIST\\raw\\train-labels-idx1-ubyte.gz to data\\MNIST\\raw\n",
      "\n",
      "Downloading http://yann.lecun.com/exdb/mnist/t10k-images-idx3-ubyte.gz\n"
     ]
    },
    {
     "name": "stderr",
     "output_type": "stream",
     "text": [
      "\n",
      "47.7%"
     ]
    },
    {
     "name": "stdout",
     "output_type": "stream",
     "text": [
      "Downloading http://yann.lecun.com/exdb/mnist/t10k-images-idx3-ubyte.gz to data\\MNIST\\raw\\t10k-images-idx3-ubyte.gz\n"
     ]
    },
    {
     "name": "stderr",
     "output_type": "stream",
     "text": [
      "100.0%\n"
     ]
    },
    {
     "name": "stdout",
     "output_type": "stream",
     "text": [
      "Extracting data\\MNIST\\raw\\t10k-images-idx3-ubyte.gz to data\\MNIST\\raw\n"
     ]
    },
    {
     "name": "stderr",
     "output_type": "stream",
     "text": [
      "100.0%"
     ]
    },
    {
     "name": "stdout",
     "output_type": "stream",
     "text": [
      "\n",
      "Downloading http://yann.lecun.com/exdb/mnist/t10k-labels-idx1-ubyte.gz\n",
      "Downloading http://yann.lecun.com/exdb/mnist/t10k-labels-idx1-ubyte.gz to data\\MNIST\\raw\\t10k-labels-idx1-ubyte.gz\n",
      "Extracting data\\MNIST\\raw\\t10k-labels-idx1-ubyte.gz to data\\MNIST\\raw\n"
     ]
    },
    {
     "name": "stderr",
     "output_type": "stream",
     "text": [
      "\n"
     ]
    },
    {
     "name": "stdout",
     "output_type": "stream",
     "text": [
      "\n"
     ]
    }
   ],
   "source": [
    "# number of samples in each batch to load\n",
    "batch_size = 20\n",
    "\n",
    "# conversion function used in data loading\n",
    "transform = transforms.ToTensor()\n",
    "\n",
    "# training and test datasets:\n",
    "data_test = datasets.MNIST(root='data', train=False, download=True, transform=transform)\n",
    "data_train = datasets.MNIST(root='data', train=True, download=True, transform=transform)\n",
    "\n",
    "# set up data loaders\n",
    "test_loader = torch.utils.data.DataLoader(data_test, batch_size=batch_size)\n",
    "train_loader = torch.utils.data.DataLoader(data_train, batch_size=batch_size)\n"
   ]
  },
  {
   "cell_type": "markdown",
   "metadata": {},
   "source": [
    "Now that the download of our data is complete, we want to make ourselfs familiar with how the structure of the images we want to classify. For this we will plot the first picture of the first batch."
   ]
  },
  {
   "cell_type": "code",
   "execution_count": 19,
   "metadata": {},
   "outputs": [
    {
     "data": {
      "text/plain": [
       "<matplotlib.image.AxesImage at 0x196a19100d0>"
      ]
     },
     "execution_count": 19,
     "metadata": {},
     "output_type": "execute_result"
    },
    {
     "data": {
      "image/png": "[encoded data removed]",
      "text/plain": [
       "<Figure size 640x480 with 1 Axes>"
      ]
     },
     "metadata": {},
     "output_type": "display_data"
    }
   ],
   "source": [
    "%matplotlib inline\n",
    "# get a batch from the training loader\n",
    "it = iter(train_loader)\n",
    "images, lab = next(it)\n",
    "images = images.numpy() #convert images to numpy datatypes\n",
    "\n",
    "# pick first image and plot it\n",
    "img = np.squeeze(images[1])\n",
    "fig, ax = plt.subplots()\n",
    "ax.imshow(img, cmap='gray')\n"
   ]
  },
  {
   "cell_type": "markdown",
   "metadata": {},
   "source": [
    "As we see the data consists of a 2d array of pixels carrying different values, which may be interpreted as the brightness values of the corresponding pixels.\n",
    "\n",
    "## The Neural Net\n",
    "Our aim is to build a neural network with the ability to classify data of the form of the image above as a number from the set [0, 1, ... , 9]. It will receive the brightness values of the input image and then perform a 2d convolution with different kernels on it. The result will then be flattend and fed to a number of fully connected layers, with the last leading to ten outputs, representing the numbers 0 to 9. \n",
    "\n",
    "\n",
    "By adjusting the weights inside the kernels and fully connected layers to minimize the the total loss on the training set we hope to improve the network step by step.\n",
    "\n",
    "\n",
    "But first, let's set up the network:"
   ]
  },
  {
   "cell_type": "code",
   "execution_count": 11,
   "metadata": {},
   "outputs": [],
   "source": [
    "# define model\n",
    "class Net(nn.Module):\n",
    "    def __init__(self):\n",
    "        super(Net, self).__init__()\n",
    "        \n",
    "        # define architecture\n",
    "        self.conv1 = nn.Conv2d(1, 8, (5, 5))\n",
    "        self.fc1 = nn.Linear(24*24*8, 20)\n",
    "        self.fc2 = nn.Linear(20, 10)\n",
    "\n",
    "    def forward(self, x):\n",
    "        # add hidden relu layer\n",
    "        x = F.relu(self.conv1(x))\n",
    "        # flatten image\n",
    "        x = x.view(-1, 24*24*8) # from three axes to single axis\n",
    "        x = F.relu(self.fc1(x))\n",
    "        return x\n",
    "    \n",
    "\n",
    "\n",
    "model = Net()\n",
    "\n",
    "# define loss function\n",
    "loss_fn = nn.CrossEntropyLoss()\n",
    "\n",
    "# specify optimizer\n",
    "optimizer = torch.optim.SGD(model.parameters(), lr=0.005, momentum=0.2)\n",
    "\n"
   ]
  },
  {
   "cell_type": "markdown",
   "metadata": {},
   "source": [
    "For this example we chose the CrossEntropy loss function and stochastic gradient decend with momentum of 0.2 and a learning rate of 0.005.\n",
    "\n",
    "\n",
    "Now let's train the model:\n"
   ]
  },
  {
   "cell_type": "code",
   "execution_count": 12,
   "metadata": {},
   "outputs": [
    {
     "name": "stdout",
     "output_type": "stream",
     "text": [
      "Loss of Ep. 1: 0.430993\n",
      "Loss of Ep. 2: 0.274003\n",
      "Loss of Ep. 3: 0.205922\n",
      "Loss of Ep. 4: 0.153951\n",
      "Loss of Ep. 5: 0.122378\n",
      "Loss of Ep. 6: 0.103175\n",
      "Loss of Ep. 7: 0.090494\n",
      "Loss of Ep. 8: 0.081446\n",
      "Loss of Ep. 9: 0.074597\n",
      "Loss of Ep. 10: 0.069186\n",
      "Loss of Ep. 11: 0.064757\n",
      "Loss of Ep. 12: 0.061035\n",
      "Loss of Ep. 13: 0.057843\n",
      "Loss of Ep. 14: 0.055059\n",
      "Loss of Ep. 15: 0.052595\n",
      "Loss of Ep. 16: 0.050391\n",
      "Loss of Ep. 17: 0.048396\n",
      "Loss of Ep. 18: 0.046576\n",
      "Loss of Ep. 19: 0.044901\n",
      "Loss of Ep. 20: 0.043359\n"
     ]
    }
   ],
   "source": [
    "# define training epochs\n",
    "n_epochs = 20\n",
    "# set up model for training\n",
    "model.train()\n",
    "\n",
    "#training loop\n",
    "for epoch in range(n_epochs):\n",
    "    loss = 0.0\n",
    "    for data, target in train_loader:\n",
    "        # clear gradients of all optimized variables\n",
    "        optimizer.zero_grad()\n",
    "        # forward pass: compute predicted outputs by passing inputs into the net\n",
    "        prediction = model(data)\n",
    "        # calc loss\n",
    "        current_loss = loss_fn(prediction, target)\n",
    "        # backwards pass: compute gradient of loss in respect to model params\n",
    "        current_loss.backward()\n",
    "        # update parameters of model\n",
    "        optimizer.step()\n",
    "        # update total loss\n",
    "        loss += current_loss.item()*data.size(0)\n",
    "    \n",
    "    # print training statistics\n",
    "    # calc average epoch loss\n",
    "    loss = loss/len(train_loader.sampler)\n",
    "    print(f'Loss of Ep. {epoch +1 }: {loss:.6f}')\n"
   ]
  },
  {
   "cell_type": "markdown",
   "metadata": {},
   "source": [
    "We can see that the loss on the training set slowly trends down. This means for each concurrent training episode we get smaller and smaller deviations from the labels of the training data.\n",
    "\n",
    "In the next step we want to test the network on a dataset not yet seen by the network and evaluate its performance. For this we loaded the test dataset in the beginning."
   ]
  },
  {
   "cell_type": "code",
   "execution_count": 14,
   "metadata": {},
   "outputs": [
    {
     "name": "stdout",
     "output_type": "stream",
     "text": [
      "Test loss: 0.057317\n",
      "\n",
      "Test accuracy for 0: 99.387755%\n",
      "Test accuracy for 1: 99.383260%\n",
      "Test accuracy for 2: 97.771318%\n",
      "Test accuracy for 3: 98.415842%\n",
      "Test accuracy for 4: 99.083503%\n",
      "Test accuracy for 5: 98.991031%\n",
      "Test accuracy for 6: 96.868476%\n",
      "Test accuracy for 7: 97.470817%\n",
      "Test accuracy for 8: 97.330595%\n",
      "Test accuracy for 9: 96.233895%\n",
      "\n",
      "Overall test accuracy: 98.100000%\n"
     ]
    }
   ],
   "source": [
    "# set up monitor lists for test:\n",
    "test_loss = 0.0\n",
    "correct_lst = list(0.0 for i in range(10))\n",
    "total_lst = list(0.0 for i in range(10))\n",
    "\n",
    "# set model in evaluation mode:\n",
    "model.eval()\n",
    "\n",
    "for data, target in test_loader:\n",
    "    # forward pass: calc predictions\n",
    "    prediction = model(data)\n",
    "    # calc loss\n",
    "    current_loss = loss_fn(prediction, target)\n",
    "    # update test_loss\n",
    "    test_loss += current_loss.item()*data.size(0)\n",
    "    # get maximum prediction from probabilities\n",
    "    _, pred = torch.max(prediction, 1)\n",
    "    # compare to label\n",
    "    correct = np.squeeze(pred.eq(target.data.view_as(pred)))\n",
    "    # calc test accuracy\n",
    "    for i in range(len(target)):\n",
    "        label = target.data[i]\n",
    "        correct_lst[label] += correct[i].item()\n",
    "        total_lst[label] += 1\n",
    "\n",
    "test_loss = test_loss/len(test_loader.sampler)\n",
    "print(f'Test loss: {test_loss:.6f}\\n')\n",
    "\n",
    "for i in range(10):\n",
    "    if total_lst[i] > 0:\n",
    "        print(f'Test accuracy for {str(i)}: {100*correct_lst[i]/total_lst[i]:4f}%')\n",
    "\n",
    "print(f'\\nOverall test accuracy: {100.0*np.sum(correct_lst)/np.sum(total_lst):4f}%')"
   ]
  },
  {
   "cell_type": "markdown",
   "metadata": {},
   "source": []
  }
 ],
 "metadata": {
  "kernelspec": {
   "display_name": "Python 3",
   "language": "python",
   "name": "python3"
  },
  "language_info": {
   "codemirror_mode": {
    "name": "ipython",
    "version": 3
   },
   "file_extension": ".py",
   "mimetype": "text/x-python",
   "name": "python",
   "nbconvert_exporter": "python",
   "pygments_lexer": "ipython3",
   "version": "3.11.5"
  }
 },
 "nbformat": 4,
 "nbformat_minor": 2
}
